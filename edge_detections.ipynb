{
 "cells": [
  {
   "cell_type": "markdown",
   "metadata": {},
   "source": [
    "# canny edge detection"
   ]
  },
  {
   "cell_type": "code",
   "execution_count": null,
   "metadata": {},
   "outputs": [],
   "source": [
    "import cv2 import numpy as np\n",
    "from matplotlib import pyplot as plt\n",
    "img = cv2.imread('Minion.png',0) \n",
    "edges = cv2.Canny(img,100,200)\n",
    "plt.subplot(121),plt.imshow(img,cmap = 'gray') plt.title('Original Image'), \n",
    "plt.xticks([]),\n",
    "plt.yticks([]) plt.subplot(122),\n",
    "plt.imshow(edges,cmap = 'gray') plt.title('Edge Image'),\n",
    "plt.xticks([]), plt.yticks([])\n",
    "plt.show()"
   ]
  },
  {
   "cell_type": "markdown",
   "metadata": {},
   "source": [
    "# Sobel Edge Detection"
   ]
  },
  {
   "cell_type": "code",
   "execution_count": null,
   "metadata": {},
   "outputs": [],
   "source": [
    "import cv2 import numpy as np from matplotlib import pyplot as plt\n",
    "img = cv2.imread('Minion.png',0)\n",
    "sobelx = cv2.Sobel(img,cv2.CV_64F,1,0,ksize=5) \n",
    "sobely = cv2.Sobel(img,cv2.CV_64F,0,1,ksize=5)\n",
    "plt.subplot(2,2,1),\n",
    "plt.imshow(img,cmap = 'gray') plt.title('Original'),\n",
    "plt.xticks([]), plt.yticks([])\n",
    "plt.subplot(2,2,2),\n",
    "plt.imshow(sobelx,cmap = 'gray') plt.title('Sobel X'), \n",
    "plt.xticks([]), plt.yticks([])\n",
    "plt.subplot(2,2,3),\n",
    "plt.imshow(sobely,cmap = 'gray') plt.title('Sobel Y'),\n",
    "plt.xticks([]), plt.yticks([]) plt.show()"
   ]
  }
 ],
 "metadata": {
  "kernelspec": {
   "display_name": "Python 3",
   "language": "python",
   "name": "python3"
  },
  "language_info": {
   "codemirror_mode": {
    "name": "ipython",
    "version": 3
   },
   "file_extension": ".py",
   "mimetype": "text/x-python",
   "name": "python",
   "nbconvert_exporter": "python",
   "pygments_lexer": "ipython3",
   "version": "3.7.1"
  }
 },
 "nbformat": 4,
 "nbformat_minor": 2
}
